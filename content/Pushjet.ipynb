{
 "cells": [
  {
   "cell_type": "markdown",
   "metadata": {},
   "source": [
    "Recently, I've faced the need of monitoring some basic checks in my laptop and wanted to be rapidly notified about them. Basically I have a small script scheduled in my crontab and want it to clearly notify me when it returns errors. My real task was a little bit more complicated, but let's say I just wanted to check the free space on root partition.\n",
    "\n",
    "The first obvious option was to just send an email I can see in my mobile phone, but that was boring and due to the amount of mails I receive everyday it would be easy to ignore the notification. Another option would be to write a telegram bot, but I fond the solution a little bit oversized for my needs.\n",
    "\n",
    "I just want to easily send a push notification in my android phone. It should be easy!\n",
    "\n",
    "After a little bit of googling I found [Pushjet](http://pushjet.io) as the perfect tool for my needs:\n",
    "\n",
    "* It's free as in free beer and offered as a service.\n",
    "* It's free as in freedom (GPL compatible) and I could host my own broker if needed (mainly for security reasons).\n",
    "* It has a damn simple python library to use it.\n",
    "\n",
    "So let's start with it."
   ]
  },
  {
   "cell_type": "markdown",
   "metadata": {},
   "source": [
    "## Monitoring the free space in my machine\n",
    "\n",
    "First of all let's get from python the free space I have in my laptop:"
   ]
  },
  {
   "cell_type": "code",
   "execution_count": 1,
   "metadata": {},
   "outputs": [
    {
     "name": "stdout",
     "output_type": "stream",
     "text": [
      "/dev/sda5        429G   365G   42G  90% /home\n"
     ]
    }
   ],
   "source": [
    "import subprocess\n",
    "df = subprocess.Popen([\"df\", \"-h\"], stdout=subprocess.PIPE)\n",
    "output = df.communicate()[0].decode()\n",
    "for line in output.splitlines()[1:]:\n",
    "    if int(line.split()[-2].split('%')[0]) >= 75:\n",
    "        print(line)"
   ]
  },
  {
   "cell_type": "markdown",
   "metadata": {
    "collapsed": true
   },
   "source": [
    "Basically, this lines of code print \"df -h\" output lines if the free space is less than 50%. In this case you can see my home partition has only a 10% of free space, so I would like it to be notified."
   ]
  },
  {
   "cell_type": "markdown",
   "metadata": {},
   "source": [
    "## Setting up Pushjet services\n",
    "\n",
    "Now we'll start with pushjet itself.\n",
    "\n",
    "First of all, we need to install the [pushjet python api](https://pushjet.readthedocs.io/en/latest/) via pip:"
   ]
  },
  {
   "cell_type": "code",
   "execution_count": 2,
   "metadata": {},
   "outputs": [
    {
     "name": "stdout",
     "output_type": "stream",
     "text": [
      "Requirement already up-to-date: pushjet in /home/bluetc/miniconda3/lib/python3.6/site-packages\n",
      "Requirement already up-to-date: requests<3.0.0,>=2.11.1 in /home/bluetc/miniconda3/lib/python3.6/site-packages (from pushjet)\n",
      "Requirement already up-to-date: decorator<5.0.0,>=4.0.6 in /home/bluetc/miniconda3/lib/python3.6/site-packages (from pushjet)\n",
      "Requirement already up-to-date: urllib3<1.22,>=1.21.1 in /home/bluetc/miniconda3/lib/python3.6/site-packages (from requests<3.0.0,>=2.11.1->pushjet)\n",
      "Requirement already up-to-date: certifi>=2017.4.17 in /home/bluetc/miniconda3/lib/python3.6/site-packages (from requests<3.0.0,>=2.11.1->pushjet)\n",
      "Requirement already up-to-date: chardet<3.1.0,>=3.0.2 in /home/bluetc/miniconda3/lib/python3.6/site-packages (from requests<3.0.0,>=2.11.1->pushjet)\n",
      "Requirement already up-to-date: idna<2.6,>=2.5 in /home/bluetc/miniconda3/lib/python3.6/site-packages (from requests<3.0.0,>=2.11.1->pushjet)\n"
     ]
    }
   ],
   "source": [
    "! pip install --upgrade pushjet"
   ]
  },
  {
   "cell_type": "markdown",
   "metadata": {},
   "source": [
    "Now we have to create a service (a communication channel):"
   ]
  },
  {
   "cell_type": "code",
   "execution_count": 3,
   "metadata": {},
   "outputs": [
    {
     "name": "stdout",
     "output_type": "stream",
     "text": [
      "Help on method create in module pushjet.pushjet:\n",
      "\n",
      "create(name, icon_url=None) method of builtins.type instance\n",
      "    Create a new service.\n",
      "    \n",
      "    :param name: The name of the new service.\n",
      "    :param icon_url: (optional) An URL to an image to be used as the service's icon.\n",
      "    :return: The newly-created :class:`~pushjet.Service`.\n",
      "\n"
     ]
    }
   ],
   "source": [
    "import pushjet\n",
    "\n",
    "help(pushjet.Service.create)"
   ]
  },
  {
   "cell_type": "markdown",
   "metadata": {},
   "source": [
    "As you can see, we just need to give it a name and (optionally) an icon. I've choosed this one:\n",
    "![img](http://icongal.com/gallery/image/338109/linux_hdd_hd_os_hardware_disk.png)"
   ]
  },
  {
   "cell_type": "code",
   "execution_count": 4,
   "metadata": {
    "collapsed": true
   },
   "outputs": [],
   "source": [
    "my_service = pushjet.Service.create(\n",
    "    \"My Laptop free space\", \n",
    "    \"http://icongal.com/gallery/image/338109/linux_hdd_hd_os_hardware_disk.png\")"
   ]
  },
  {
   "cell_type": "markdown",
   "metadata": {},
   "source": [
    "At this point, we already have a my_service object ready to send messages. \n",
    "It has two relevant keys (a public and a private one) and that's all the information we need to send and receive the messages."
   ]
  },
  {
   "cell_type": "code",
   "execution_count": 5,
   "metadata": {},
   "outputs": [
    {
     "name": "stdout",
     "output_type": "stream",
     "text": [
      "Secret Key: bbed46983e4ed8fbaea690f1177eec6b\n",
      "Public Key: 7e6e-f02764-f740fbe71d39-b0c6a-e32d82888\n"
     ]
    }
   ],
   "source": [
    "print('Secret Key: %s' % my_service.secret_key)\n",
    "print('Public Key: %s' % my_service.public_key)"
   ]
  },
  {
   "cell_type": "markdown",
   "metadata": {},
   "source": [
    "Save those keys in a secure place."
   ]
  },
  {
   "cell_type": "markdown",
   "metadata": {},
   "source": [
    "## Android client subscription\n",
    "\n",
    "I want to receive the notifications in my android phone. Just [install the app from Google Play](https://play.google.com/store/apps/details?id=io.Pushjet.api).\n",
    "\n",
    "Once you have the app installed and opened you'll have to subscribe to the service. For that purpose, you'll only need the previously given publick key as a token. The app allows you to enter it manually or scan a QR. As I'm too lazy to enter a so long key I'll ask [qrcode](https://pypi.python.org/pypi/qrcode) python library to generate a QR for me:"
   ]
  },
  {
   "cell_type": "code",
   "execution_count": 6,
   "metadata": {
    "collapsed": true
   },
   "outputs": [],
   "source": [
    "import qrcode\n",
    "img = qrcode.make(my_service.public_key)\n",
    "img.save('images/pushjet_public_key.png')"
   ]
  },
  {
   "cell_type": "markdown",
   "metadata": {},
   "source": [
    "![img](images/pushjet_public_key.png)"
   ]
  },
  {
   "cell_type": "markdown",
   "metadata": {},
   "source": [
    "So now we can just scan the token and create a new subscription:\n",
    "\n",
    "<img src=\"images/pushjet_subscriptions.png\" width=\"200\"/>"
   ]
  },
  {
   "cell_type": "markdown",
   "metadata": {},
   "source": [
    "## Sending notifications from Python\n",
    "\n",
    "Now we'll just send the notifications, we just need the pushjet libraries we've allready installed and the secret key we've previously saved."
   ]
  },
  {
   "cell_type": "code",
   "execution_count": 7,
   "metadata": {
    "collapsed": true
   },
   "outputs": [],
   "source": [
    "service = pushjet.Service(my_service.secret_key)\n",
    "service.send(\"Hello World\")"
   ]
  },
  {
   "cell_type": "markdown",
   "metadata": {},
   "source": [
    "And that's it, you'll have a beautifull notification in your phone!\n",
    "\n",
    "<img src=\"images/pushjet_message.png\" width=\"200\"/>\n",
    "\n",
    "After all, we want to put in the messages useful information, going back to the first example we can substitute the print statement with call to Pushjet's service.send. \n",
    "\n",
    "A full functional script to be run periodically could be:"
   ]
  },
  {
   "cell_type": "code",
   "execution_count": 8,
   "metadata": {
    "collapsed": true
   },
   "outputs": [],
   "source": [
    "import pushjet\n",
    "import subprocess\n",
    "secret_key=\"bbed46983e4ed8fbaea690f1177eec6b\"\n",
    "service = pushjet.Service(secret_key)\n",
    "df = subprocess.Popen([\"df\", \"-h\"], stdout=subprocess.PIPE)\n",
    "output = df.communicate()[0].decode()\n",
    "for line in output.splitlines()[1:]:\n",
    "    if int(line.split()[-2].split('%')[0]) >= 75:\n",
    "        service.send(line)"
   ]
  },
  {
   "cell_type": "markdown",
   "metadata": {},
   "source": [
    "<img src=\"images/pushjet_disk.png\" width=\"200\"/>\n",
    "\n",
    "Now you only have to think about your own real-world use cases."
   ]
  }
 ],
 "metadata": {
  "kernelspec": {
   "display_name": "Python 3",
   "language": "python",
   "name": "python3"
  },
  "language_info": {
   "codemirror_mode": {
    "name": "ipython",
    "version": 3
   },
   "file_extension": ".py",
   "mimetype": "text/x-python",
   "name": "python",
   "nbconvert_exporter": "python",
   "pygments_lexer": "ipython3",
   "version": "3.6.0"
  }
 },
 "nbformat": 4,
 "nbformat_minor": 2
}
