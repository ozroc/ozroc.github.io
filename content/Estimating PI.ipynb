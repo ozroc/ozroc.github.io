{
 "cells": [
  {
   "cell_type": "markdown",
   "metadata": {},
   "source": [
    "# Estimating $\\pi$ for fun (Part 1: the basics)\n",
    "\n",
    "The proposed project in this article is an example I tend to use in my Python introductory courses. The purpose is to calculate a dummy PI estimation based on a damn simple [Monte Carlo](https://en.wikipedia.org/wiki/Monte_Carlo_algorithm) algorithm. \n",
    "\n",
    "It’s a simple and fun example that can be approached in a really direct and simple way, but that can be improved in  many ways.\n",
    "\n",
    "Let's start by imagining a blind darts player. \n",
    "\n",
    "<img src=\"/images/darts_pi.svg\", width=\"50%\", align=\"left\">\n",
    "\n",
    "If we assume he performs completely random shots, the ratio between the darts inside a unit circle target and the corresponding unit square target will be equal to the ratio between the well known areas of the unit square and the unit circle:\n",
    "\n",
    "\\begin{equation*}\n",
    "\\frac{D_c}{D_s} = \\frac{\\pi r^2}{(2r)^2} = \\frac 1 4 \\pi \\to \\pi = 4 \\frac{D_c}{D_s}\n",
    "\\end{equation*}\n",
    "\n",
    "So, our approach will be to simulate random shots and cout how many of them hit inside the circle target and how many of them don't.\n",
    "\n"
   ]
  },
  {
   "cell_type": "markdown",
   "metadata": {},
   "source": [
    "In Python, we can easily generate random numbers using the random module. With ´random.random()´ we can generate random numbers between 0 and 1:"
   ]
  },
  {
   "cell_type": "code",
   "execution_count": 1,
   "metadata": {
    "collapsed": false
   },
   "outputs": [
    {
     "name": "stdout",
     "output_type": "stream",
     "text": [
      "0.474118289796\n"
     ]
    }
   ],
   "source": [
    "import random\n",
    "print random.random()"
   ]
  },
  {
   "cell_type": "markdown",
   "metadata": {},
   "source": [
    "With a couple of random numbers we can define a point in 2D space."
   ]
  },
  {
   "cell_type": "code",
   "execution_count": 2,
   "metadata": {
    "collapsed": false
   },
   "outputs": [
    {
     "name": "stdout",
     "output_type": "stream",
     "text": [
      "(0.6891164227696354, 0.625197082590671)\n"
     ]
    }
   ],
   "source": [
    "x = random.random()\n",
    "y = random.random()\n",
    "print (x,y)"
   ]
  },
  {
   "cell_type": "markdown",
   "metadata": {},
   "source": [
    "Now, we have to define a variable to store the shots hitting the target, start launching random shots and counting how many of then hit the target:"
   ]
  },
  {
   "cell_type": "code",
   "execution_count": 3,
   "metadata": {
    "collapsed": false
   },
   "outputs": [],
   "source": [
    "Inside = 0\n",
    "Total = 100\n",
    "for i in range(Total):\n",
    "    x, y = random.random(), random.random()\n",
    "    if (x**2+y**2) < 1: # Target!\n",
    "        Inside += 1"
   ]
  },
  {
   "cell_type": "markdown",
   "metadata": {},
   "source": [
    "Our $\\pi$ approximation will be\n",
    "\n",
    "\\begin{equation*}\n",
    "\\pi\\approx 4\\frac{I}{T}\n",
    "\\end{equation*}"
   ]
  },
  {
   "cell_type": "code",
   "execution_count": 4,
   "metadata": {
    "collapsed": false
   },
   "outputs": [
    {
     "name": "stdout",
     "output_type": "stream",
     "text": [
      "With 100 random shots we've obtained an approximation of pi = 3.28\n"
     ]
    }
   ],
   "source": [
    "my_pi = 4.*Inside/Total\n",
    "print \"With %s random shots we've obtained an approximation of pi = %s\" % (Total, my_pi)"
   ]
  },
  {
   "cell_type": "markdown",
   "metadata": {},
   "source": [
    "In next posts, we'll evolve this really simple example to make use of several interesting things such as structuring our code with functions and classes, applying several ways of optimization or drawing nice plots for illustrating the results."
   ]
  }
 ],
 "metadata": {
  "kernelspec": {
   "display_name": "Python 2",
   "language": "python",
   "name": "python2"
  },
  "language_info": {
   "codemirror_mode": {
    "name": "ipython",
    "version": 2
   },
   "file_extension": ".py",
   "mimetype": "text/x-python",
   "name": "python",
   "nbconvert_exporter": "python",
   "pygments_lexer": "ipython2",
   "version": "2.7.12"
  }
 },
 "nbformat": 4,
 "nbformat_minor": 1
}
