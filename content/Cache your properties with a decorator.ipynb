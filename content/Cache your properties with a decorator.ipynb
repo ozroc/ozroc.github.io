{
 "cells": [
  {
   "cell_type": "markdown",
   "metadata": {
    "collapsed": false
   },
   "source": [
    "This is a wonderful Python idea I've found quite usefull and fun to implement.\n",
    "\n",
    "The reason of the need comes from an analytics project I'm working on. \n",
    "\n",
    "I have to read data from several sources (let's think on a file, a database or a remote query) that changes at predefined periods (let's say each minute). \n",
    "\n",
    "I need to continuously access the data for my calculations. But, due to performance issues, I don't want to read from disk or query the database too often... just at certain predefined time periods related with refresh rates of my data.\n",
    "\n",
    "In this example I have a class for getting <a href=\"http://www.ecb.europa.eu/stats/policy_and_exchange_rates/euro_reference_exchange_rates/html/index.en.html#dev\">Euro foreign exchange reference rates</a>:"
   ]
  },
  {
   "cell_type": "code",
   "execution_count": 1,
   "metadata": {
    "collapsed": false
   },
   "outputs": [],
   "source": [
    "import urllib2\n",
    "import xmltodict\n",
    "\n",
    "class ECB(object):\n",
    "    def __init__(self, url='http://www.ecb.int/stats/eurofxref/eurofxref-daily.xml'):\n",
    "        self.__url = url\n",
    "    @property\n",
    "    def data(self):\n",
    "        response = urllib2.urlopen(self.__url)\n",
    "        return dict(\n",
    "            map(\n",
    "                lambda x: [x[\"@currency\"], x[\"@rate\"]], \n",
    "                xmltodict.parse(response.read()\n",
    "                               )[\"gesmes:Envelope\"][\"Cube\"][\"Cube\"][\"Cube\"])\n",
    "        )\n"
   ]
  },
  {
   "cell_type": "markdown",
   "metadata": {},
   "source": [
    "So I can instantiate an ECB object and get the desired data from a simple property"
   ]
  },
  {
   "cell_type": "code",
   "execution_count": 2,
   "metadata": {
    "collapsed": false
   },
   "outputs": [],
   "source": [
    "bank = ECB()"
   ]
  },
  {
   "cell_type": "code",
   "execution_count": 3,
   "metadata": {
    "collapsed": false
   },
   "outputs": [
    {
     "name": "stdout",
     "output_type": "stream",
     "text": [
      "{u'USD': u'1.0755', u'IDR': u'14363.56', u'BGN': u'1.9558', u'ILS': u'4.0575', u'GBP': u'0.86105', u'DKK': u'7.4373', u'CAD': u'1.4056', u'MXN': u'22.2855', u'HUF': u'310.64', u'RON': u'4.5030', u'MYR': u'4.7608', u'SEK': u'9.4505', u'SGD': u'1.5201', u'HKD': u'8.3436', u'AUD': u'1.4198', u'CHF': u'1.0668', u'KRW': u'1244.76', u'CNY': u'7.3970', u'TRY': u'4.0632', u'HRK': u'7.4790', u'NZD': u'1.4709', u'THB': u'37.793', u'NOK': u'8.8880', u'RUB': u'64.4302', u'INR': u'72.8005', u'JPY': u'121.94', u'CZK': u'27.021', u'BRL': u'3.3535', u'PLN': u'4.3239', u'PHP': u'53.489', u'ZAR': u'14.4440'}\n",
      "CPU times: user 4 ms, sys: 0 ns, total: 4 ms\n",
      "Wall time: 178 ms\n"
     ]
    }
   ],
   "source": [
    "%%time\n",
    "print bank.data"
   ]
  },
  {
   "cell_type": "markdown",
   "metadata": {
    "collapsed": true
   },
   "source": [
    "This data changes daily so there's no point on continuously requesting from the remote server. \n",
    "But I can't just consider it as static data as my project will be running for months and continuously using this data.\n",
    "\n",
    "I need to somehow tell my property to store a cached data to be used.\n",
    "\n",
    "I'm working with different data sources, so I want something simple, legible and flexible enough. The most elegant way I can imagine to acomplish this is through a decorator.\n",
    "\n",
    "Let's start creating a decorator that stores the data in a dictionary."
   ]
  },
  {
   "cell_type": "code",
   "execution_count": 4,
   "metadata": {
    "collapsed": true
   },
   "outputs": [],
   "source": [
    "def cached(func):\n",
    "    def func_wrapper(self):\n",
    "        if '__cache__' not in dir(self):\n",
    "            self.__cache__={}\n",
    "        if func.__name__ not in self.__cache__.keys():\n",
    "            self.__cache__[func.__name__] = func(self)\n",
    "        return self.__cache__[func.__name__]\n",
    "    return func_wrapper"
   ]
  },
  {
   "cell_type": "markdown",
   "metadata": {},
   "source": [
    "Basically my new decorator looks for the name of my property in the keys of an dictionary stored as an attribute of my object called `__cache__`. If it doesn't exists it'll get the real data and store it there.\n",
    "\n",
    "Now I can just decorate my property"
   ]
  },
  {
   "cell_type": "code",
   "execution_count": 5,
   "metadata": {
    "collapsed": true
   },
   "outputs": [],
   "source": [
    "class ECB(object):\n",
    "    def __init__(self, url='http://www.ecb.int/stats/eurofxref/eurofxref-daily.xml'):\n",
    "        self.__url = url\n",
    "    @property\n",
    "    @cached\n",
    "    def data(self):\n",
    "        response = urllib2.urlopen(self.__url)\n",
    "        return dict(\n",
    "            map(\n",
    "                lambda x: [x[\"@currency\"], x[\"@rate\"]], \n",
    "                xmltodict.parse(response.read()\n",
    "                               )[\"gesmes:Envelope\"][\"Cube\"][\"Cube\"][\"Cube\"])\n",
    "        )"
   ]
  },
  {
   "cell_type": "markdown",
   "metadata": {},
   "source": [
    "Instantiate the class"
   ]
  },
  {
   "cell_type": "code",
   "execution_count": 6,
   "metadata": {
    "collapsed": true
   },
   "outputs": [],
   "source": [
    "bank2=ECB()"
   ]
  },
  {
   "cell_type": "markdown",
   "metadata": {},
   "source": [
    "and get the data for the first time:"
   ]
  },
  {
   "cell_type": "code",
   "execution_count": 7,
   "metadata": {
    "collapsed": false
   },
   "outputs": [
    {
     "name": "stdout",
     "output_type": "stream",
     "text": [
      "{u'USD': u'1.0755', u'IDR': u'14363.56', u'BGN': u'1.9558', u'ILS': u'4.0575', u'GBP': u'0.86105', u'DKK': u'7.4373', u'CAD': u'1.4056', u'MXN': u'22.2855', u'HUF': u'310.64', u'RON': u'4.5030', u'MYR': u'4.7608', u'SEK': u'9.4505', u'SGD': u'1.5201', u'HKD': u'8.3436', u'AUD': u'1.4198', u'CHF': u'1.0668', u'KRW': u'1244.76', u'CNY': u'7.3970', u'TRY': u'4.0632', u'HRK': u'7.4790', u'NZD': u'1.4709', u'THB': u'37.793', u'NOK': u'8.8880', u'RUB': u'64.4302', u'INR': u'72.8005', u'JPY': u'121.94', u'CZK': u'27.021', u'BRL': u'3.3535', u'PLN': u'4.3239', u'PHP': u'53.489', u'ZAR': u'14.4440'}\n",
      "CPU times: user 0 ns, sys: 4 ms, total: 4 ms\n",
      "Wall time: 173 ms\n"
     ]
    }
   ],
   "source": [
    "%%time\n",
    "print bank2.data"
   ]
  },
  {
   "cell_type": "markdown",
   "metadata": {},
   "source": [
    "Note it takes around $200 ms$ to get the data.\n",
    "\n",
    "The next time I call for the property, the data is already stored in memory, so the time it takes to get the data is much less (around $200  \\mu s$):"
   ]
  },
  {
   "cell_type": "code",
   "execution_count": 8,
   "metadata": {
    "collapsed": false
   },
   "outputs": [
    {
     "name": "stdout",
     "output_type": "stream",
     "text": [
      "{u'USD': u'1.0755', u'IDR': u'14363.56', u'BGN': u'1.9558', u'ILS': u'4.0575', u'GBP': u'0.86105', u'DKK': u'7.4373', u'CAD': u'1.4056', u'MXN': u'22.2855', u'HUF': u'310.64', u'RON': u'4.5030', u'MYR': u'4.7608', u'SEK': u'9.4505', u'SGD': u'1.5201', u'HKD': u'8.3436', u'AUD': u'1.4198', u'CHF': u'1.0668', u'KRW': u'1244.76', u'CNY': u'7.3970', u'TRY': u'4.0632', u'HRK': u'7.4790', u'NZD': u'1.4709', u'THB': u'37.793', u'NOK': u'8.8880', u'RUB': u'64.4302', u'INR': u'72.8005', u'JPY': u'121.94', u'CZK': u'27.021', u'BRL': u'3.3535', u'PLN': u'4.3239', u'PHP': u'53.489', u'ZAR': u'14.4440'}\n",
      "CPU times: user 4 ms, sys: 0 ns, total: 4 ms\n",
      "Wall time: 191 µs\n"
     ]
    }
   ],
   "source": [
    "%%time\n",
    "print bank2.data"
   ]
  },
  {
   "cell_type": "markdown",
   "metadata": {},
   "source": [
    "With the current implementation, the cached data is static. We want to make it refresh with a certain time period.\n",
    "\n",
    "In our `__cache__` dictionary we'll store not only the data but the time when it was updated, so each time we ask for it's value our property will consider if the data is still valid or outdated, and if so, refresh it."
   ]
  },
  {
   "cell_type": "code",
   "execution_count": 9,
   "metadata": {
    "collapsed": false
   },
   "outputs": [],
   "source": [
    "import time\n",
    "\n",
    "def cached_till(time_delta=1):\n",
    "    def cached(func):\n",
    "        def func_wrapper(self):\n",
    "            now = time.time()\n",
    "            if '__cache__' not in dir(self):\n",
    "                self.__cache__={}\n",
    "            if func.__name__ not in self.__cache__.keys():\n",
    "                self.__cache__[func.__name__] = {\n",
    "                    'time': now,\n",
    "                    'data': func(self)\n",
    "                }\n",
    "            if now - self.__cache__[func.__name__]['time'] > time_delta:\n",
    "                self.__cache__[func.__name__] = {\n",
    "                    'time': now,\n",
    "                    'data': func(self)\n",
    "                }\n",
    "            return self.__cache__[func.__name__]['data']\n",
    "        return func_wrapper\n",
    "    return cached\n",
    "    "
   ]
  },
  {
   "cell_type": "markdown",
   "metadata": {},
   "source": [
    "Now we can pass an argument to our new decorator with the time period we want the data to be updated (in seconds)."
   ]
  },
  {
   "cell_type": "code",
   "execution_count": 10,
   "metadata": {
    "collapsed": false
   },
   "outputs": [],
   "source": [
    "class ECB(object):\n",
    "    def __init__(self, url='http://www.ecb.int/stats/eurofxref/eurofxref-daily.xml'):\n",
    "        self.__url = url\n",
    "    @property\n",
    "    @cached_till(time_delta=1)\n",
    "    def data(self):\n",
    "        response = urllib2.urlopen(self.__url)\n",
    "        return dict(\n",
    "            map(\n",
    "                lambda x: [x[\"@currency\"], x[\"@rate\"]], \n",
    "                xmltodict.parse(response.read()\n",
    "                               )[\"gesmes:Envelope\"][\"Cube\"][\"Cube\"][\"Cube\"])\n",
    "        )"
   ]
  },
  {
   "cell_type": "markdown",
   "metadata": {},
   "source": [
    "So, instantiating it again and querying for a first time:"
   ]
  },
  {
   "cell_type": "code",
   "execution_count": 11,
   "metadata": {
    "collapsed": true
   },
   "outputs": [],
   "source": [
    "bank3=ECB()"
   ]
  },
  {
   "cell_type": "code",
   "execution_count": 12,
   "metadata": {
    "collapsed": false
   },
   "outputs": [
    {
     "name": "stdout",
     "output_type": "stream",
     "text": [
      "{u'USD': u'1.0755', u'IDR': u'14363.56', u'BGN': u'1.9558', u'ILS': u'4.0575', u'GBP': u'0.86105', u'DKK': u'7.4373', u'CAD': u'1.4056', u'MXN': u'22.2855', u'HUF': u'310.64', u'RON': u'4.5030', u'MYR': u'4.7608', u'SEK': u'9.4505', u'SGD': u'1.5201', u'HKD': u'8.3436', u'AUD': u'1.4198', u'CHF': u'1.0668', u'KRW': u'1244.76', u'CNY': u'7.3970', u'TRY': u'4.0632', u'HRK': u'7.4790', u'NZD': u'1.4709', u'THB': u'37.793', u'NOK': u'8.8880', u'RUB': u'64.4302', u'INR': u'72.8005', u'JPY': u'121.94', u'CZK': u'27.021', u'BRL': u'3.3535', u'PLN': u'4.3239', u'PHP': u'53.489', u'ZAR': u'14.4440'}\n",
      "CPU times: user 4 ms, sys: 0 ns, total: 4 ms\n",
      "Wall time: 193 ms\n"
     ]
    }
   ],
   "source": [
    "%%time\n",
    "print bank3.data"
   ]
  },
  {
   "cell_type": "markdown",
   "metadata": {},
   "source": [
    "The second time it'll use cached data and again take much less time:"
   ]
  },
  {
   "cell_type": "code",
   "execution_count": 13,
   "metadata": {
    "collapsed": false
   },
   "outputs": [
    {
     "name": "stdout",
     "output_type": "stream",
     "text": [
      "{u'USD': u'1.0755', u'IDR': u'14363.56', u'BGN': u'1.9558', u'ILS': u'4.0575', u'GBP': u'0.86105', u'DKK': u'7.4373', u'CAD': u'1.4056', u'MXN': u'22.2855', u'HUF': u'310.64', u'RON': u'4.5030', u'MYR': u'4.7608', u'SEK': u'9.4505', u'SGD': u'1.5201', u'HKD': u'8.3436', u'AUD': u'1.4198', u'CHF': u'1.0668', u'KRW': u'1244.76', u'CNY': u'7.3970', u'TRY': u'4.0632', u'HRK': u'7.4790', u'NZD': u'1.4709', u'THB': u'37.793', u'NOK': u'8.8880', u'RUB': u'64.4302', u'INR': u'72.8005', u'JPY': u'121.94', u'CZK': u'27.021', u'BRL': u'3.3535', u'PLN': u'4.3239', u'PHP': u'53.489', u'ZAR': u'14.4440'}\n",
      "CPU times: user 0 ns, sys: 0 ns, total: 0 ns\n",
      "Wall time: 189 µs\n"
     ]
    }
   ],
   "source": [
    "%%time\n",
    "print bank3.data"
   ]
  },
  {
   "cell_type": "markdown",
   "metadata": {},
   "source": [
    "But after enough time the query will update the data as we can see from the time it takes to get it:"
   ]
  },
  {
   "cell_type": "code",
   "execution_count": 14,
   "metadata": {
    "collapsed": true
   },
   "outputs": [],
   "source": [
    "time.sleep(1)"
   ]
  },
  {
   "cell_type": "code",
   "execution_count": 15,
   "metadata": {
    "collapsed": false
   },
   "outputs": [
    {
     "name": "stdout",
     "output_type": "stream",
     "text": [
      "{u'USD': u'1.0755', u'IDR': u'14363.56', u'BGN': u'1.9558', u'ILS': u'4.0575', u'GBP': u'0.86105', u'DKK': u'7.4373', u'CAD': u'1.4056', u'MXN': u'22.2855', u'HUF': u'310.64', u'RON': u'4.5030', u'MYR': u'4.7608', u'SEK': u'9.4505', u'SGD': u'1.5201', u'HKD': u'8.3436', u'AUD': u'1.4198', u'CHF': u'1.0668', u'KRW': u'1244.76', u'CNY': u'7.3970', u'TRY': u'4.0632', u'HRK': u'7.4790', u'NZD': u'1.4709', u'THB': u'37.793', u'NOK': u'8.8880', u'RUB': u'64.4302', u'INR': u'72.8005', u'JPY': u'121.94', u'CZK': u'27.021', u'BRL': u'3.3535', u'PLN': u'4.3239', u'PHP': u'53.489', u'ZAR': u'14.4440'}\n",
      "CPU times: user 0 ns, sys: 4 ms, total: 4 ms\n",
      "Wall time: 174 ms\n"
     ]
    }
   ],
   "source": [
    "%%time\n",
    "print bank3.data"
   ]
  },
  {
   "cell_type": "markdown",
   "metadata": {},
   "source": [
    "As many other times, after a search on Google I realised I have reinvented the wheel and it already existed a library called <a href=\"https://pypi.python.org/pypi/cached-property/1.2.0\">`cached-property`</a> doing exactly this (and surely better than I), but... **Que me quiten lo bailao**."
   ]
  }
 ],
 "metadata": {
  "kernelspec": {
   "display_name": "Python 2",
   "language": "python",
   "name": "python2"
  },
  "language_info": {
   "codemirror_mode": {
    "name": "ipython",
    "version": 2
   },
   "file_extension": ".py",
   "mimetype": "text/x-python",
   "name": "python",
   "nbconvert_exporter": "python",
   "pygments_lexer": "ipython2",
   "version": "2.7.12"
  }
 },
 "nbformat": 4,
 "nbformat_minor": 1
}
